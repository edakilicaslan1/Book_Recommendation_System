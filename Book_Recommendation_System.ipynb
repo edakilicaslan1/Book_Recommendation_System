{
  "nbformat": 4,
  "nbformat_minor": 0,
  "metadata": {
    "colab": {
      "name": "Book Recommendation System.ipynb",
      "provenance": [],
      "collapsed_sections": [],
      "authorship_tag": "ABX9TyP2F5P5G9BoMFCjZd17Xf1o",
      "include_colab_link": true
    },
    "kernelspec": {
      "name": "python3",
      "display_name": "Python 3"
    },
    "language_info": {
      "name": "python"
    }
  },
  "cells": [
    {
      "cell_type": "markdown",
      "metadata": {
        "id": "view-in-github",
        "colab_type": "text"
      },
      "source": [
        "<a href=\"https://colab.research.google.com/github/edakilicaslan1/Book_Recommendation_System/blob/main/Book_Recommendation_System.ipynb\" target=\"_parent\"><img src=\"https://colab.research.google.com/assets/colab-badge.svg\" alt=\"Open In Colab\"/></a>"
      ]
    },
    {
      "cell_type": "code",
      "metadata": {
        "id": "v7-Ew1qyx8gq"
      },
      "source": [
        "import pandas as pd\n",
        "import numpy as np\n",
        "import seaborn as sns\n",
        "import matplotlib.pyplot as plt\n",
        "from sklearn.cluster import KMeans\n",
        "import warnings\n",
        "warnings.filterwarnings(\"ignore\")"
      ],
      "execution_count": 1,
      "outputs": []
    },
    {
      "cell_type": "code",
      "metadata": {
        "id": "1C6hDsHNzeDt",
        "colab": {
          "base_uri": "https://localhost:8080/"
        },
        "outputId": "ea50e7a3-1605-44e4-d8ae-e9cf851032f8"
      },
      "source": [
        "df = pd.read_csv('books.csv',error_bad_lines = False)"
      ],
      "execution_count": 2,
      "outputs": [
        {
          "output_type": "stream",
          "text": [
            "b'Skipping line 3350: expected 12 fields, saw 13\\nSkipping line 4704: expected 12 fields, saw 13\\nSkipping line 5879: expected 12 fields, saw 13\\nSkipping line 8981: expected 12 fields, saw 13\\n'\n"
          ],
          "name": "stderr"
        }
      ]
    },
    {
      "cell_type": "code",
      "metadata": {
        "id": "xUxz14LYz92s"
      },
      "source": [
        "#Understanding the dataset"
      ],
      "execution_count": 3,
      "outputs": []
    },
    {
      "cell_type": "code",
      "metadata": {
        "colab": {
          "base_uri": "https://localhost:8080/",
          "height": 734
        },
        "id": "_9o__ueIzqXX",
        "outputId": "c15a85ed-8d48-4fa7-c843-c26ef354ce08"
      },
      "source": [
        "df.head()"
      ],
      "execution_count": 4,
      "outputs": [
        {
          "output_type": "execute_result",
          "data": {
            "text/html": [
              "<div>\n",
              "<style scoped>\n",
              "    .dataframe tbody tr th:only-of-type {\n",
              "        vertical-align: middle;\n",
              "    }\n",
              "\n",
              "    .dataframe tbody tr th {\n",
              "        vertical-align: top;\n",
              "    }\n",
              "\n",
              "    .dataframe thead th {\n",
              "        text-align: right;\n",
              "    }\n",
              "</style>\n",
              "<table border=\"1\" class=\"dataframe\">\n",
              "  <thead>\n",
              "    <tr style=\"text-align: right;\">\n",
              "      <th></th>\n",
              "      <th>bookID</th>\n",
              "      <th>title</th>\n",
              "      <th>authors</th>\n",
              "      <th>average_rating</th>\n",
              "      <th>isbn</th>\n",
              "      <th>isbn13</th>\n",
              "      <th>language_code</th>\n",
              "      <th>num_pages</th>\n",
              "      <th>ratings_count</th>\n",
              "      <th>text_reviews_count</th>\n",
              "      <th>publication_date</th>\n",
              "      <th>publisher</th>\n",
              "    </tr>\n",
              "  </thead>\n",
              "  <tbody>\n",
              "    <tr>\n",
              "      <th>0</th>\n",
              "      <td>1</td>\n",
              "      <td>Harry Potter and the Half-Blood Prince (Harry ...</td>\n",
              "      <td>J.K. Rowling/Mary GrandPré</td>\n",
              "      <td>4.57</td>\n",
              "      <td>0439785960</td>\n",
              "      <td>9780439785969</td>\n",
              "      <td>eng</td>\n",
              "      <td>652</td>\n",
              "      <td>2095690</td>\n",
              "      <td>27591</td>\n",
              "      <td>9/16/2006</td>\n",
              "      <td>Scholastic Inc.</td>\n",
              "    </tr>\n",
              "    <tr>\n",
              "      <th>1</th>\n",
              "      <td>2</td>\n",
              "      <td>Harry Potter and the Order of the Phoenix (Har...</td>\n",
              "      <td>J.K. Rowling/Mary GrandPré</td>\n",
              "      <td>4.49</td>\n",
              "      <td>0439358078</td>\n",
              "      <td>9780439358071</td>\n",
              "      <td>eng</td>\n",
              "      <td>870</td>\n",
              "      <td>2153167</td>\n",
              "      <td>29221</td>\n",
              "      <td>9/1/2004</td>\n",
              "      <td>Scholastic Inc.</td>\n",
              "    </tr>\n",
              "    <tr>\n",
              "      <th>2</th>\n",
              "      <td>4</td>\n",
              "      <td>Harry Potter and the Chamber of Secrets (Harry...</td>\n",
              "      <td>J.K. Rowling</td>\n",
              "      <td>4.42</td>\n",
              "      <td>0439554896</td>\n",
              "      <td>9780439554893</td>\n",
              "      <td>eng</td>\n",
              "      <td>352</td>\n",
              "      <td>6333</td>\n",
              "      <td>244</td>\n",
              "      <td>11/1/2003</td>\n",
              "      <td>Scholastic</td>\n",
              "    </tr>\n",
              "    <tr>\n",
              "      <th>3</th>\n",
              "      <td>5</td>\n",
              "      <td>Harry Potter and the Prisoner of Azkaban (Harr...</td>\n",
              "      <td>J.K. Rowling/Mary GrandPré</td>\n",
              "      <td>4.56</td>\n",
              "      <td>043965548X</td>\n",
              "      <td>9780439655484</td>\n",
              "      <td>eng</td>\n",
              "      <td>435</td>\n",
              "      <td>2339585</td>\n",
              "      <td>36325</td>\n",
              "      <td>5/1/2004</td>\n",
              "      <td>Scholastic Inc.</td>\n",
              "    </tr>\n",
              "    <tr>\n",
              "      <th>4</th>\n",
              "      <td>8</td>\n",
              "      <td>Harry Potter Boxed Set  Books 1-5 (Harry Potte...</td>\n",
              "      <td>J.K. Rowling/Mary GrandPré</td>\n",
              "      <td>4.78</td>\n",
              "      <td>0439682584</td>\n",
              "      <td>9780439682589</td>\n",
              "      <td>eng</td>\n",
              "      <td>2690</td>\n",
              "      <td>41428</td>\n",
              "      <td>164</td>\n",
              "      <td>9/13/2004</td>\n",
              "      <td>Scholastic</td>\n",
              "    </tr>\n",
              "  </tbody>\n",
              "</table>\n",
              "</div>"
            ],
            "text/plain": [
              "   bookID  ...        publisher\n",
              "0       1  ...  Scholastic Inc.\n",
              "1       2  ...  Scholastic Inc.\n",
              "2       4  ...       Scholastic\n",
              "3       5  ...  Scholastic Inc.\n",
              "4       8  ...       Scholastic\n",
              "\n",
              "[5 rows x 12 columns]"
            ]
          },
          "metadata": {
            "tags": []
          },
          "execution_count": 4
        }
      ]
    },
    {
      "cell_type": "code",
      "metadata": {
        "colab": {
          "base_uri": "https://localhost:8080/"
        },
        "id": "DVTF8j5r0FVi",
        "outputId": "103af4c2-ce68-4455-945f-6b5fc19dd1a8"
      },
      "source": [
        "df.shape"
      ],
      "execution_count": 5,
      "outputs": [
        {
          "output_type": "execute_result",
          "data": {
            "text/plain": [
              "(11123, 12)"
            ]
          },
          "metadata": {
            "tags": []
          },
          "execution_count": 5
        }
      ]
    },
    {
      "cell_type": "code",
      "metadata": {
        "colab": {
          "base_uri": "https://localhost:8080/"
        },
        "id": "mSAggCrd0PJy",
        "outputId": "753b545e-c14f-43cd-92bc-76e6565fb1f7"
      },
      "source": [
        "df.isnull().sum()"
      ],
      "execution_count": 6,
      "outputs": [
        {
          "output_type": "execute_result",
          "data": {
            "text/plain": [
              "bookID                0\n",
              "title                 0\n",
              "authors               0\n",
              "average_rating        0\n",
              "isbn                  0\n",
              "isbn13                0\n",
              "language_code         0\n",
              "  num_pages           0\n",
              "ratings_count         0\n",
              "text_reviews_count    0\n",
              "publication_date      0\n",
              "publisher             0\n",
              "dtype: int64"
            ]
          },
          "metadata": {
            "tags": []
          },
          "execution_count": 6
        }
      ]
    },
    {
      "cell_type": "code",
      "metadata": {
        "colab": {
          "base_uri": "https://localhost:8080/"
        },
        "id": "U47Ty9BX0RL1",
        "outputId": "c8966e7d-d18a-4010-cd61-86aabd5188ff"
      },
      "source": [
        "df.info()"
      ],
      "execution_count": 7,
      "outputs": [
        {
          "output_type": "stream",
          "text": [
            "<class 'pandas.core.frame.DataFrame'>\n",
            "RangeIndex: 11123 entries, 0 to 11122\n",
            "Data columns (total 12 columns):\n",
            " #   Column              Non-Null Count  Dtype  \n",
            "---  ------              --------------  -----  \n",
            " 0   bookID              11123 non-null  int64  \n",
            " 1   title               11123 non-null  object \n",
            " 2   authors             11123 non-null  object \n",
            " 3   average_rating      11123 non-null  float64\n",
            " 4   isbn                11123 non-null  object \n",
            " 5   isbn13              11123 non-null  int64  \n",
            " 6   language_code       11123 non-null  object \n",
            " 7     num_pages         11123 non-null  int64  \n",
            " 8   ratings_count       11123 non-null  int64  \n",
            " 9   text_reviews_count  11123 non-null  int64  \n",
            " 10  publication_date    11123 non-null  object \n",
            " 11  publisher           11123 non-null  object \n",
            "dtypes: float64(1), int64(5), object(6)\n",
            "memory usage: 1.0+ MB\n"
          ],
          "name": "stdout"
        }
      ]
    },
    {
      "cell_type": "code",
      "metadata": {
        "colab": {
          "base_uri": "https://localhost:8080/"
        },
        "id": "CmWs8hYU0kQa",
        "outputId": "8e4aabfe-1b9b-4886-dad6-135a0339ba76"
      },
      "source": [
        "df['authors'].nunique()"
      ],
      "execution_count": 9,
      "outputs": [
        {
          "output_type": "execute_result",
          "data": {
            "text/plain": [
              "6639"
            ]
          },
          "metadata": {
            "tags": []
          },
          "execution_count": 9
        }
      ]
    },
    {
      "cell_type": "code",
      "metadata": {
        "colab": {
          "base_uri": "https://localhost:8080/"
        },
        "id": "B1cmVheK0otz",
        "outputId": "e6695319-10ec-4a6f-82ed-6813128ad307"
      },
      "source": [
        "df['title'].nunique()"
      ],
      "execution_count": 10,
      "outputs": [
        {
          "output_type": "execute_result",
          "data": {
            "text/plain": [
              "10348"
            ]
          },
          "metadata": {
            "tags": []
          },
          "execution_count": 10
        }
      ]
    },
    {
      "cell_type": "code",
      "metadata": {
        "colab": {
          "base_uri": "https://localhost:8080/"
        },
        "id": "35DwxY3-0vWu",
        "outputId": "7ca91b6e-416b-4ec2-dc57-99fd45c203ae"
      },
      "source": [
        "df['language_code'].value_counts()"
      ],
      "execution_count": 11,
      "outputs": [
        {
          "output_type": "execute_result",
          "data": {
            "text/plain": [
              "eng      8908\n",
              "en-US    1408\n",
              "spa       218\n",
              "en-GB     214\n",
              "fre       144\n",
              "ger        99\n",
              "jpn        46\n",
              "mul        19\n",
              "zho        14\n",
              "grc        11\n",
              "por        10\n",
              "en-CA       7\n",
              "ita         5\n",
              "enm         3\n",
              "lat         3\n",
              "swe         2\n",
              "rus         2\n",
              "nor         1\n",
              "ara         1\n",
              "msa         1\n",
              "gla         1\n",
              "glg         1\n",
              "nl          1\n",
              "ale         1\n",
              "tur         1\n",
              "wel         1\n",
              "srp         1\n",
              "Name: language_code, dtype: int64"
            ]
          },
          "metadata": {
            "tags": []
          },
          "execution_count": 11
        }
      ]
    },
    {
      "cell_type": "code",
      "metadata": {
        "colab": {
          "base_uri": "https://localhost:8080/",
          "height": 297
        },
        "id": "fOxLK32u031N",
        "outputId": "a32172fa-3d72-41a9-b088-3d1c5033655d"
      },
      "source": [
        "df.describe()"
      ],
      "execution_count": 12,
      "outputs": [
        {
          "output_type": "execute_result",
          "data": {
            "text/html": [
              "<div>\n",
              "<style scoped>\n",
              "    .dataframe tbody tr th:only-of-type {\n",
              "        vertical-align: middle;\n",
              "    }\n",
              "\n",
              "    .dataframe tbody tr th {\n",
              "        vertical-align: top;\n",
              "    }\n",
              "\n",
              "    .dataframe thead th {\n",
              "        text-align: right;\n",
              "    }\n",
              "</style>\n",
              "<table border=\"1\" class=\"dataframe\">\n",
              "  <thead>\n",
              "    <tr style=\"text-align: right;\">\n",
              "      <th></th>\n",
              "      <th>bookID</th>\n",
              "      <th>average_rating</th>\n",
              "      <th>isbn13</th>\n",
              "      <th>num_pages</th>\n",
              "      <th>ratings_count</th>\n",
              "      <th>text_reviews_count</th>\n",
              "    </tr>\n",
              "  </thead>\n",
              "  <tbody>\n",
              "    <tr>\n",
              "      <th>count</th>\n",
              "      <td>11123.000000</td>\n",
              "      <td>11123.000000</td>\n",
              "      <td>1.112300e+04</td>\n",
              "      <td>11123.000000</td>\n",
              "      <td>1.112300e+04</td>\n",
              "      <td>11123.000000</td>\n",
              "    </tr>\n",
              "    <tr>\n",
              "      <th>mean</th>\n",
              "      <td>21310.856963</td>\n",
              "      <td>3.934075</td>\n",
              "      <td>9.759880e+12</td>\n",
              "      <td>336.405556</td>\n",
              "      <td>1.794285e+04</td>\n",
              "      <td>542.048099</td>\n",
              "    </tr>\n",
              "    <tr>\n",
              "      <th>std</th>\n",
              "      <td>13094.727252</td>\n",
              "      <td>0.350485</td>\n",
              "      <td>4.429758e+11</td>\n",
              "      <td>241.152626</td>\n",
              "      <td>1.124992e+05</td>\n",
              "      <td>2576.619589</td>\n",
              "    </tr>\n",
              "    <tr>\n",
              "      <th>min</th>\n",
              "      <td>1.000000</td>\n",
              "      <td>0.000000</td>\n",
              "      <td>8.987060e+09</td>\n",
              "      <td>0.000000</td>\n",
              "      <td>0.000000e+00</td>\n",
              "      <td>0.000000</td>\n",
              "    </tr>\n",
              "    <tr>\n",
              "      <th>25%</th>\n",
              "      <td>10277.500000</td>\n",
              "      <td>3.770000</td>\n",
              "      <td>9.780345e+12</td>\n",
              "      <td>192.000000</td>\n",
              "      <td>1.040000e+02</td>\n",
              "      <td>9.000000</td>\n",
              "    </tr>\n",
              "    <tr>\n",
              "      <th>50%</th>\n",
              "      <td>20287.000000</td>\n",
              "      <td>3.960000</td>\n",
              "      <td>9.780582e+12</td>\n",
              "      <td>299.000000</td>\n",
              "      <td>7.450000e+02</td>\n",
              "      <td>47.000000</td>\n",
              "    </tr>\n",
              "    <tr>\n",
              "      <th>75%</th>\n",
              "      <td>32104.500000</td>\n",
              "      <td>4.140000</td>\n",
              "      <td>9.780872e+12</td>\n",
              "      <td>416.000000</td>\n",
              "      <td>5.000500e+03</td>\n",
              "      <td>238.000000</td>\n",
              "    </tr>\n",
              "    <tr>\n",
              "      <th>max</th>\n",
              "      <td>45641.000000</td>\n",
              "      <td>5.000000</td>\n",
              "      <td>9.790008e+12</td>\n",
              "      <td>6576.000000</td>\n",
              "      <td>4.597666e+06</td>\n",
              "      <td>94265.000000</td>\n",
              "    </tr>\n",
              "  </tbody>\n",
              "</table>\n",
              "</div>"
            ],
            "text/plain": [
              "             bookID  average_rating  ...  ratings_count  text_reviews_count\n",
              "count  11123.000000    11123.000000  ...   1.112300e+04        11123.000000\n",
              "mean   21310.856963        3.934075  ...   1.794285e+04          542.048099\n",
              "std    13094.727252        0.350485  ...   1.124992e+05         2576.619589\n",
              "min        1.000000        0.000000  ...   0.000000e+00            0.000000\n",
              "25%    10277.500000        3.770000  ...   1.040000e+02            9.000000\n",
              "50%    20287.000000        3.960000  ...   7.450000e+02           47.000000\n",
              "75%    32104.500000        4.140000  ...   5.000500e+03          238.000000\n",
              "max    45641.000000        5.000000  ...   4.597666e+06        94265.000000\n",
              "\n",
              "[8 rows x 6 columns]"
            ]
          },
          "metadata": {
            "tags": []
          },
          "execution_count": 12
        }
      ]
    },
    {
      "cell_type": "code",
      "metadata": {
        "colab": {
          "base_uri": "https://localhost:8080/",
          "height": 1000
        },
        "id": "ZDkz-1MW1oOv",
        "outputId": "4edec158-19e7-46f6-c6ac-276f2fe65448"
      },
      "source": [
        "top_10 = df[(df['ratings_count'] > 1000000)]\n",
        "top_10.head(10)"
      ],
      "execution_count": 57,
      "outputs": [
        {
          "output_type": "execute_result",
          "data": {
            "text/html": [
              "<div>\n",
              "<style scoped>\n",
              "    .dataframe tbody tr th:only-of-type {\n",
              "        vertical-align: middle;\n",
              "    }\n",
              "\n",
              "    .dataframe tbody tr th {\n",
              "        vertical-align: top;\n",
              "    }\n",
              "\n",
              "    .dataframe thead th {\n",
              "        text-align: right;\n",
              "    }\n",
              "</style>\n",
              "<table border=\"1\" class=\"dataframe\">\n",
              "  <thead>\n",
              "    <tr style=\"text-align: right;\">\n",
              "      <th></th>\n",
              "      <th>bookID</th>\n",
              "      <th>title</th>\n",
              "      <th>authors</th>\n",
              "      <th>average_rating</th>\n",
              "      <th>isbn</th>\n",
              "      <th>isbn13</th>\n",
              "      <th>language_code</th>\n",
              "      <th>num_pages</th>\n",
              "      <th>ratings_count</th>\n",
              "      <th>text_reviews_count</th>\n",
              "      <th>publication_date</th>\n",
              "      <th>publisher</th>\n",
              "    </tr>\n",
              "  </thead>\n",
              "  <tbody>\n",
              "    <tr>\n",
              "      <th>0</th>\n",
              "      <td>1</td>\n",
              "      <td>Harry Potter and the Half-Blood Prince (Harry ...</td>\n",
              "      <td>J.K. Rowling/Mary GrandPré</td>\n",
              "      <td>4.57</td>\n",
              "      <td>0439785960</td>\n",
              "      <td>9780439785969</td>\n",
              "      <td>eng</td>\n",
              "      <td>652</td>\n",
              "      <td>2095690</td>\n",
              "      <td>27591</td>\n",
              "      <td>9/16/2006</td>\n",
              "      <td>Scholastic Inc.</td>\n",
              "    </tr>\n",
              "    <tr>\n",
              "      <th>1</th>\n",
              "      <td>2</td>\n",
              "      <td>Harry Potter and the Order of the Phoenix (Har...</td>\n",
              "      <td>J.K. Rowling/Mary GrandPré</td>\n",
              "      <td>4.49</td>\n",
              "      <td>0439358078</td>\n",
              "      <td>9780439358071</td>\n",
              "      <td>eng</td>\n",
              "      <td>870</td>\n",
              "      <td>2153167</td>\n",
              "      <td>29221</td>\n",
              "      <td>9/1/2004</td>\n",
              "      <td>Scholastic Inc.</td>\n",
              "    </tr>\n",
              "    <tr>\n",
              "      <th>3</th>\n",
              "      <td>5</td>\n",
              "      <td>Harry Potter and the Prisoner of Azkaban (Harr...</td>\n",
              "      <td>J.K. Rowling/Mary GrandPré</td>\n",
              "      <td>4.56</td>\n",
              "      <td>043965548X</td>\n",
              "      <td>9780439655484</td>\n",
              "      <td>eng</td>\n",
              "      <td>435</td>\n",
              "      <td>2339585</td>\n",
              "      <td>36325</td>\n",
              "      <td>5/1/2004</td>\n",
              "      <td>Scholastic Inc.</td>\n",
              "    </tr>\n",
              "    <tr>\n",
              "      <th>23</th>\n",
              "      <td>34</td>\n",
              "      <td>The Fellowship of the Ring (The Lord of the Ri...</td>\n",
              "      <td>J.R.R. Tolkien</td>\n",
              "      <td>4.36</td>\n",
              "      <td>0618346252</td>\n",
              "      <td>9780618346257</td>\n",
              "      <td>eng</td>\n",
              "      <td>398</td>\n",
              "      <td>2128944</td>\n",
              "      <td>13670</td>\n",
              "      <td>9/5/2003</td>\n",
              "      <td>Houghton Mifflin Harcourt</td>\n",
              "    </tr>\n",
              "    <tr>\n",
              "      <th>284</th>\n",
              "      <td>865</td>\n",
              "      <td>The Alchemist</td>\n",
              "      <td>Paulo Coelho/Alan R. Clarke/Özdemir İnce</td>\n",
              "      <td>3.86</td>\n",
              "      <td>0061122416</td>\n",
              "      <td>9780061122415</td>\n",
              "      <td>eng</td>\n",
              "      <td>197</td>\n",
              "      <td>1631221</td>\n",
              "      <td>55843</td>\n",
              "      <td>5/1/1993</td>\n",
              "      <td>HarperCollins</td>\n",
              "    </tr>\n",
              "    <tr>\n",
              "      <th>294</th>\n",
              "      <td>890</td>\n",
              "      <td>Of Mice and Men</td>\n",
              "      <td>John Steinbeck</td>\n",
              "      <td>3.87</td>\n",
              "      <td>0142000671</td>\n",
              "      <td>9780142000670</td>\n",
              "      <td>eng</td>\n",
              "      <td>103</td>\n",
              "      <td>1755253</td>\n",
              "      <td>25554</td>\n",
              "      <td>1/8/2002</td>\n",
              "      <td>Penguin Books</td>\n",
              "    </tr>\n",
              "    <tr>\n",
              "      <th>299</th>\n",
              "      <td>930</td>\n",
              "      <td>Memoirs of a Geisha</td>\n",
              "      <td>Arthur Golden</td>\n",
              "      <td>4.11</td>\n",
              "      <td>0739326228</td>\n",
              "      <td>9780739326220</td>\n",
              "      <td>eng</td>\n",
              "      <td>434</td>\n",
              "      <td>1301083</td>\n",
              "      <td>19296</td>\n",
              "      <td>11/15/2005</td>\n",
              "      <td>Random House Large Print Publishing</td>\n",
              "    </tr>\n",
              "    <tr>\n",
              "      <th>307</th>\n",
              "      <td>960</td>\n",
              "      <td>Angels &amp; Demons (Robert Langdon  #1)</td>\n",
              "      <td>Dan Brown</td>\n",
              "      <td>3.89</td>\n",
              "      <td>1416524797</td>\n",
              "      <td>9781416524793</td>\n",
              "      <td>eng</td>\n",
              "      <td>736</td>\n",
              "      <td>2418736</td>\n",
              "      <td>21303</td>\n",
              "      <td>4/1/2006</td>\n",
              "      <td>Pocket Books</td>\n",
              "    </tr>\n",
              "    <tr>\n",
              "      <th>310</th>\n",
              "      <td>968</td>\n",
              "      <td>The Da Vinci Code (Robert Langdon  #2)</td>\n",
              "      <td>Dan Brown</td>\n",
              "      <td>3.84</td>\n",
              "      <td>0307277674</td>\n",
              "      <td>9780307277671</td>\n",
              "      <td>eng</td>\n",
              "      <td>489</td>\n",
              "      <td>1679706</td>\n",
              "      <td>35877</td>\n",
              "      <td>3/28/2006</td>\n",
              "      <td>Anchor</td>\n",
              "    </tr>\n",
              "    <tr>\n",
              "      <th>514</th>\n",
              "      <td>1618</td>\n",
              "      <td>The Curious Incident of the Dog in the Night-Time</td>\n",
              "      <td>Mark Haddon</td>\n",
              "      <td>3.88</td>\n",
              "      <td>1400032717</td>\n",
              "      <td>9781400032716</td>\n",
              "      <td>eng</td>\n",
              "      <td>226</td>\n",
              "      <td>1054308</td>\n",
              "      <td>35537</td>\n",
              "      <td>5/18/2004</td>\n",
              "      <td>Vintage</td>\n",
              "    </tr>\n",
              "  </tbody>\n",
              "</table>\n",
              "</div>"
            ],
            "text/plain": [
              "     bookID  ...                            publisher\n",
              "0         1  ...                      Scholastic Inc.\n",
              "1         2  ...                      Scholastic Inc.\n",
              "3         5  ...                      Scholastic Inc.\n",
              "23       34  ...            Houghton Mifflin Harcourt\n",
              "284     865  ...                        HarperCollins\n",
              "294     890  ...                        Penguin Books\n",
              "299     930  ...  Random House Large Print Publishing\n",
              "307     960  ...                         Pocket Books\n",
              "310     968  ...                               Anchor\n",
              "514    1618  ...                              Vintage\n",
              "\n",
              "[10 rows x 12 columns]"
            ]
          },
          "metadata": {
            "tags": []
          },
          "execution_count": 57
        }
      ]
    },
    {
      "cell_type": "code",
      "metadata": {
        "id": "c427PegA5mm1",
        "colab": {
          "base_uri": "https://localhost:8080/",
          "height": 1000
        },
        "outputId": "c79e9d19-7b24-418f-cc85-7a8d90e73763"
      },
      "source": [
        "data = top_10.sort_values(by ='average_rating',ascending = False).head(10)\n",
        "data"
      ],
      "execution_count": 16,
      "outputs": [
        {
          "output_type": "execute_result",
          "data": {
            "text/html": [
              "<div>\n",
              "<style scoped>\n",
              "    .dataframe tbody tr th:only-of-type {\n",
              "        vertical-align: middle;\n",
              "    }\n",
              "\n",
              "    .dataframe tbody tr th {\n",
              "        vertical-align: top;\n",
              "    }\n",
              "\n",
              "    .dataframe thead th {\n",
              "        text-align: right;\n",
              "    }\n",
              "</style>\n",
              "<table border=\"1\" class=\"dataframe\">\n",
              "  <thead>\n",
              "    <tr style=\"text-align: right;\">\n",
              "      <th></th>\n",
              "      <th>bookID</th>\n",
              "      <th>title</th>\n",
              "      <th>authors</th>\n",
              "      <th>average_rating</th>\n",
              "      <th>isbn</th>\n",
              "      <th>isbn13</th>\n",
              "      <th>language_code</th>\n",
              "      <th>num_pages</th>\n",
              "      <th>ratings_count</th>\n",
              "      <th>text_reviews_count</th>\n",
              "      <th>publication_date</th>\n",
              "      <th>publisher</th>\n",
              "    </tr>\n",
              "  </thead>\n",
              "  <tbody>\n",
              "    <tr>\n",
              "      <th>0</th>\n",
              "      <td>1</td>\n",
              "      <td>Harry Potter and the Half-Blood Prince (Harry ...</td>\n",
              "      <td>J.K. Rowling/Mary GrandPré</td>\n",
              "      <td>4.57</td>\n",
              "      <td>0439785960</td>\n",
              "      <td>9780439785969</td>\n",
              "      <td>eng</td>\n",
              "      <td>652</td>\n",
              "      <td>2095690</td>\n",
              "      <td>27591</td>\n",
              "      <td>9/16/2006</td>\n",
              "      <td>Scholastic Inc.</td>\n",
              "    </tr>\n",
              "    <tr>\n",
              "      <th>3</th>\n",
              "      <td>5</td>\n",
              "      <td>Harry Potter and the Prisoner of Azkaban (Harr...</td>\n",
              "      <td>J.K. Rowling/Mary GrandPré</td>\n",
              "      <td>4.56</td>\n",
              "      <td>043965548X</td>\n",
              "      <td>9780439655484</td>\n",
              "      <td>eng</td>\n",
              "      <td>435</td>\n",
              "      <td>2339585</td>\n",
              "      <td>36325</td>\n",
              "      <td>5/1/2004</td>\n",
              "      <td>Scholastic Inc.</td>\n",
              "    </tr>\n",
              "    <tr>\n",
              "      <th>1</th>\n",
              "      <td>2</td>\n",
              "      <td>Harry Potter and the Order of the Phoenix (Har...</td>\n",
              "      <td>J.K. Rowling/Mary GrandPré</td>\n",
              "      <td>4.49</td>\n",
              "      <td>0439358078</td>\n",
              "      <td>9780439358071</td>\n",
              "      <td>eng</td>\n",
              "      <td>870</td>\n",
              "      <td>2153167</td>\n",
              "      <td>29221</td>\n",
              "      <td>9/1/2004</td>\n",
              "      <td>Scholastic Inc.</td>\n",
              "    </tr>\n",
              "    <tr>\n",
              "      <th>4415</th>\n",
              "      <td>15881</td>\n",
              "      <td>Harry Potter and the Chamber of Secrets (Harry...</td>\n",
              "      <td>J.K. Rowling/Mary GrandPré</td>\n",
              "      <td>4.42</td>\n",
              "      <td>0439064864</td>\n",
              "      <td>9780439064866</td>\n",
              "      <td>eng</td>\n",
              "      <td>341</td>\n",
              "      <td>2293963</td>\n",
              "      <td>34692</td>\n",
              "      <td>6/2/1999</td>\n",
              "      <td>Arthur A. Levine Books / Scholastic Inc.</td>\n",
              "    </tr>\n",
              "    <tr>\n",
              "      <th>5270</th>\n",
              "      <td>19063</td>\n",
              "      <td>The Book Thief</td>\n",
              "      <td>Markus Zusak/Cao Xuân Việt Khương</td>\n",
              "      <td>4.37</td>\n",
              "      <td>0375831002</td>\n",
              "      <td>9780375831003</td>\n",
              "      <td>eng</td>\n",
              "      <td>552</td>\n",
              "      <td>1516367</td>\n",
              "      <td>86881</td>\n",
              "      <td>3/14/2006</td>\n",
              "      <td>Alfred A. Knopf</td>\n",
              "    </tr>\n",
              "    <tr>\n",
              "      <th>23</th>\n",
              "      <td>34</td>\n",
              "      <td>The Fellowship of the Ring (The Lord of the Ri...</td>\n",
              "      <td>J.R.R. Tolkien</td>\n",
              "      <td>4.36</td>\n",
              "      <td>0618346252</td>\n",
              "      <td>9780618346257</td>\n",
              "      <td>eng</td>\n",
              "      <td>398</td>\n",
              "      <td>2128944</td>\n",
              "      <td>13670</td>\n",
              "      <td>9/5/2003</td>\n",
              "      <td>Houghton Mifflin Harcourt</td>\n",
              "    </tr>\n",
              "    <tr>\n",
              "      <th>1697</th>\n",
              "      <td>5907</td>\n",
              "      <td>The Hobbit  or There and Back Again</td>\n",
              "      <td>J.R.R. Tolkien</td>\n",
              "      <td>4.27</td>\n",
              "      <td>0618260307</td>\n",
              "      <td>9780618260300</td>\n",
              "      <td>eng</td>\n",
              "      <td>366</td>\n",
              "      <td>2530894</td>\n",
              "      <td>32871</td>\n",
              "      <td>8/15/2002</td>\n",
              "      <td>Houghton Mifflin</td>\n",
              "    </tr>\n",
              "    <tr>\n",
              "      <th>7309</th>\n",
              "      <td>28187</td>\n",
              "      <td>The Lightning Thief (Percy Jackson and the Oly...</td>\n",
              "      <td>Rick Riordan</td>\n",
              "      <td>4.25</td>\n",
              "      <td>0786838655</td>\n",
              "      <td>9780786838653</td>\n",
              "      <td>eng</td>\n",
              "      <td>375</td>\n",
              "      <td>1766725</td>\n",
              "      <td>47951</td>\n",
              "      <td>3/1/2006</td>\n",
              "      <td>Disney Hyperion Books</td>\n",
              "    </tr>\n",
              "    <tr>\n",
              "      <th>6422</th>\n",
              "      <td>24178</td>\n",
              "      <td>Charlotte's Web</td>\n",
              "      <td>E.B. White/Garth Williams/Rosemary Wells</td>\n",
              "      <td>4.17</td>\n",
              "      <td>0064410935</td>\n",
              "      <td>9780064410939</td>\n",
              "      <td>eng</td>\n",
              "      <td>184</td>\n",
              "      <td>1300470</td>\n",
              "      <td>14739</td>\n",
              "      <td>10/1/2001</td>\n",
              "      <td>HarperCollinsPublishers</td>\n",
              "    </tr>\n",
              "    <tr>\n",
              "      <th>1069</th>\n",
              "      <td>3636</td>\n",
              "      <td>The Giver (The Giver  #1)</td>\n",
              "      <td>Lois Lowry</td>\n",
              "      <td>4.13</td>\n",
              "      <td>0385732554</td>\n",
              "      <td>9780385732550</td>\n",
              "      <td>eng</td>\n",
              "      <td>208</td>\n",
              "      <td>1585589</td>\n",
              "      <td>56604</td>\n",
              "      <td>1/24/2006</td>\n",
              "      <td>Ember</td>\n",
              "    </tr>\n",
              "  </tbody>\n",
              "</table>\n",
              "</div>"
            ],
            "text/plain": [
              "      bookID  ...                                 publisher\n",
              "0          1  ...                           Scholastic Inc.\n",
              "3          5  ...                           Scholastic Inc.\n",
              "1          2  ...                           Scholastic Inc.\n",
              "4415   15881  ...  Arthur A. Levine Books / Scholastic Inc.\n",
              "5270   19063  ...                           Alfred A. Knopf\n",
              "23        34  ...                 Houghton Mifflin Harcourt\n",
              "1697    5907  ...                          Houghton Mifflin\n",
              "7309   28187  ...                     Disney Hyperion Books\n",
              "6422   24178  ...                   HarperCollinsPublishers\n",
              "1069    3636  ...                                     Ember\n",
              "\n",
              "[10 rows x 12 columns]"
            ]
          },
          "metadata": {
            "tags": []
          },
          "execution_count": 16
        }
      ]
    },
    {
      "cell_type": "code",
      "metadata": {
        "colab": {
          "base_uri": "https://localhost:8080/",
          "height": 280
        },
        "id": "qJKsPLXV7lZ2",
        "outputId": "4c15872c-5bd5-4cb6-9973-1a7a5123384a"
      },
      "source": [
        "sns.barplot(x = 'average_rating',y = 'title' ,data = data, palette = 'Blues_d');"
      ],
      "execution_count": 17,
      "outputs": [
        {
          "output_type": "display_data",
          "data": {
            "image/png": "[encoded data removed]",
            "text/plain": [
              "<Figure size 432x288 with 1 Axes>"
            ]
          },
          "metadata": {
            "tags": [],
            "needs_background": "light"
          }
        }
      ]
    },
    {
      "cell_type": "code",
      "metadata": {
        "id": "kd48bf3m8Z7e",
        "colab": {
          "base_uri": "https://localhost:8080/",
          "height": 390
        },
        "outputId": "5d8dc8e5-f9d8-48c4-e367-e3bf882633ac"
      },
      "source": [
        "top_10_authors = df.groupby('authors').count().sort_values('title', ascending=False).head(10)\n",
        "top_10_authors"
      ],
      "execution_count": 23,
      "outputs": [
        {
          "output_type": "execute_result",
          "data": {
            "text/html": [
              "<div>\n",
              "<style scoped>\n",
              "    .dataframe tbody tr th:only-of-type {\n",
              "        vertical-align: middle;\n",
              "    }\n",
              "\n",
              "    .dataframe tbody tr th {\n",
              "        vertical-align: top;\n",
              "    }\n",
              "\n",
              "    .dataframe thead th {\n",
              "        text-align: right;\n",
              "    }\n",
              "</style>\n",
              "<table border=\"1\" class=\"dataframe\">\n",
              "  <thead>\n",
              "    <tr style=\"text-align: right;\">\n",
              "      <th></th>\n",
              "      <th>bookID</th>\n",
              "      <th>title</th>\n",
              "      <th>average_rating</th>\n",
              "      <th>isbn</th>\n",
              "      <th>isbn13</th>\n",
              "      <th>language_code</th>\n",
              "      <th>num_pages</th>\n",
              "      <th>ratings_count</th>\n",
              "      <th>text_reviews_count</th>\n",
              "      <th>publication_date</th>\n",
              "      <th>publisher</th>\n",
              "    </tr>\n",
              "    <tr>\n",
              "      <th>authors</th>\n",
              "      <th></th>\n",
              "      <th></th>\n",
              "      <th></th>\n",
              "      <th></th>\n",
              "      <th></th>\n",
              "      <th></th>\n",
              "      <th></th>\n",
              "      <th></th>\n",
              "      <th></th>\n",
              "      <th></th>\n",
              "      <th></th>\n",
              "    </tr>\n",
              "  </thead>\n",
              "  <tbody>\n",
              "    <tr>\n",
              "      <th>Stephen King</th>\n",
              "      <td>40</td>\n",
              "      <td>40</td>\n",
              "      <td>40</td>\n",
              "      <td>40</td>\n",
              "      <td>40</td>\n",
              "      <td>40</td>\n",
              "      <td>40</td>\n",
              "      <td>40</td>\n",
              "      <td>40</td>\n",
              "      <td>40</td>\n",
              "      <td>40</td>\n",
              "    </tr>\n",
              "    <tr>\n",
              "      <th>P.G. Wodehouse</th>\n",
              "      <td>40</td>\n",
              "      <td>40</td>\n",
              "      <td>40</td>\n",
              "      <td>40</td>\n",
              "      <td>40</td>\n",
              "      <td>40</td>\n",
              "      <td>40</td>\n",
              "      <td>40</td>\n",
              "      <td>40</td>\n",
              "      <td>40</td>\n",
              "      <td>40</td>\n",
              "    </tr>\n",
              "    <tr>\n",
              "      <th>Rumiko Takahashi</th>\n",
              "      <td>39</td>\n",
              "      <td>39</td>\n",
              "      <td>39</td>\n",
              "      <td>39</td>\n",
              "      <td>39</td>\n",
              "      <td>39</td>\n",
              "      <td>39</td>\n",
              "      <td>39</td>\n",
              "      <td>39</td>\n",
              "      <td>39</td>\n",
              "      <td>39</td>\n",
              "    </tr>\n",
              "    <tr>\n",
              "      <th>Orson Scott Card</th>\n",
              "      <td>35</td>\n",
              "      <td>35</td>\n",
              "      <td>35</td>\n",
              "      <td>35</td>\n",
              "      <td>35</td>\n",
              "      <td>35</td>\n",
              "      <td>35</td>\n",
              "      <td>35</td>\n",
              "      <td>35</td>\n",
              "      <td>35</td>\n",
              "      <td>35</td>\n",
              "    </tr>\n",
              "    <tr>\n",
              "      <th>Agatha Christie</th>\n",
              "      <td>33</td>\n",
              "      <td>33</td>\n",
              "      <td>33</td>\n",
              "      <td>33</td>\n",
              "      <td>33</td>\n",
              "      <td>33</td>\n",
              "      <td>33</td>\n",
              "      <td>33</td>\n",
              "      <td>33</td>\n",
              "      <td>33</td>\n",
              "      <td>33</td>\n",
              "    </tr>\n",
              "    <tr>\n",
              "      <th>Piers Anthony</th>\n",
              "      <td>30</td>\n",
              "      <td>30</td>\n",
              "      <td>30</td>\n",
              "      <td>30</td>\n",
              "      <td>30</td>\n",
              "      <td>30</td>\n",
              "      <td>30</td>\n",
              "      <td>30</td>\n",
              "      <td>30</td>\n",
              "      <td>30</td>\n",
              "      <td>30</td>\n",
              "    </tr>\n",
              "    <tr>\n",
              "      <th>Mercedes Lackey</th>\n",
              "      <td>29</td>\n",
              "      <td>29</td>\n",
              "      <td>29</td>\n",
              "      <td>29</td>\n",
              "      <td>29</td>\n",
              "      <td>29</td>\n",
              "      <td>29</td>\n",
              "      <td>29</td>\n",
              "      <td>29</td>\n",
              "      <td>29</td>\n",
              "      <td>29</td>\n",
              "    </tr>\n",
              "    <tr>\n",
              "      <th>Sandra Brown</th>\n",
              "      <td>29</td>\n",
              "      <td>29</td>\n",
              "      <td>29</td>\n",
              "      <td>29</td>\n",
              "      <td>29</td>\n",
              "      <td>29</td>\n",
              "      <td>29</td>\n",
              "      <td>29</td>\n",
              "      <td>29</td>\n",
              "      <td>29</td>\n",
              "      <td>29</td>\n",
              "    </tr>\n",
              "    <tr>\n",
              "      <th>Dick Francis</th>\n",
              "      <td>28</td>\n",
              "      <td>28</td>\n",
              "      <td>28</td>\n",
              "      <td>28</td>\n",
              "      <td>28</td>\n",
              "      <td>28</td>\n",
              "      <td>28</td>\n",
              "      <td>28</td>\n",
              "      <td>28</td>\n",
              "      <td>28</td>\n",
              "      <td>28</td>\n",
              "    </tr>\n",
              "    <tr>\n",
              "      <th>Laurell K. Hamilton</th>\n",
              "      <td>23</td>\n",
              "      <td>23</td>\n",
              "      <td>23</td>\n",
              "      <td>23</td>\n",
              "      <td>23</td>\n",
              "      <td>23</td>\n",
              "      <td>23</td>\n",
              "      <td>23</td>\n",
              "      <td>23</td>\n",
              "      <td>23</td>\n",
              "      <td>23</td>\n",
              "    </tr>\n",
              "  </tbody>\n",
              "</table>\n",
              "</div>"
            ],
            "text/plain": [
              "                     bookID  title  ...  publication_date  publisher\n",
              "authors                             ...                             \n",
              "Stephen King             40     40  ...                40         40\n",
              "P.G. Wodehouse           40     40  ...                40         40\n",
              "Rumiko Takahashi         39     39  ...                39         39\n",
              "Orson Scott Card         35     35  ...                35         35\n",
              "Agatha Christie          33     33  ...                33         33\n",
              "Piers Anthony            30     30  ...                30         30\n",
              "Mercedes Lackey          29     29  ...                29         29\n",
              "Sandra Brown             29     29  ...                29         29\n",
              "Dick Francis             28     28  ...                28         28\n",
              "Laurell K. Hamilton      23     23  ...                23         23\n",
              "\n",
              "[10 rows x 11 columns]"
            ]
          },
          "metadata": {
            "tags": []
          },
          "execution_count": 23
        }
      ]
    },
    {
      "cell_type": "code",
      "metadata": {
        "colab": {
          "base_uri": "https://localhost:8080/",
          "height": 1000
        },
        "id": "dCDw_syL_Uon",
        "outputId": "022bf85e-52b4-4ca2-9af9-06e907ea8ff6"
      },
      "source": [
        "most_rated = df.sort_values('ratings_count', ascending = False).head(10).set_index('title')\n",
        "most_rated"
      ],
      "execution_count": 31,
      "outputs": [
        {
          "output_type": "execute_result",
          "data": {
            "text/html": [
              "<div>\n",
              "<style scoped>\n",
              "    .dataframe tbody tr th:only-of-type {\n",
              "        vertical-align: middle;\n",
              "    }\n",
              "\n",
              "    .dataframe tbody tr th {\n",
              "        vertical-align: top;\n",
              "    }\n",
              "\n",
              "    .dataframe thead th {\n",
              "        text-align: right;\n",
              "    }\n",
              "</style>\n",
              "<table border=\"1\" class=\"dataframe\">\n",
              "  <thead>\n",
              "    <tr style=\"text-align: right;\">\n",
              "      <th></th>\n",
              "      <th>bookID</th>\n",
              "      <th>authors</th>\n",
              "      <th>average_rating</th>\n",
              "      <th>isbn</th>\n",
              "      <th>isbn13</th>\n",
              "      <th>language_code</th>\n",
              "      <th>num_pages</th>\n",
              "      <th>ratings_count</th>\n",
              "      <th>text_reviews_count</th>\n",
              "      <th>publication_date</th>\n",
              "      <th>publisher</th>\n",
              "    </tr>\n",
              "    <tr>\n",
              "      <th>title</th>\n",
              "      <th></th>\n",
              "      <th></th>\n",
              "      <th></th>\n",
              "      <th></th>\n",
              "      <th></th>\n",
              "      <th></th>\n",
              "      <th></th>\n",
              "      <th></th>\n",
              "      <th></th>\n",
              "      <th></th>\n",
              "      <th></th>\n",
              "    </tr>\n",
              "  </thead>\n",
              "  <tbody>\n",
              "    <tr>\n",
              "      <th>Twilight (Twilight  #1)</th>\n",
              "      <td>41865</td>\n",
              "      <td>Stephenie Meyer</td>\n",
              "      <td>3.59</td>\n",
              "      <td>0316015849</td>\n",
              "      <td>9780316015844</td>\n",
              "      <td>eng</td>\n",
              "      <td>501</td>\n",
              "      <td>4597666</td>\n",
              "      <td>94265</td>\n",
              "      <td>9/6/2006</td>\n",
              "      <td>Little  Brown and Company</td>\n",
              "    </tr>\n",
              "    <tr>\n",
              "      <th>The Hobbit  or There and Back Again</th>\n",
              "      <td>5907</td>\n",
              "      <td>J.R.R. Tolkien</td>\n",
              "      <td>4.27</td>\n",
              "      <td>0618260307</td>\n",
              "      <td>9780618260300</td>\n",
              "      <td>eng</td>\n",
              "      <td>366</td>\n",
              "      <td>2530894</td>\n",
              "      <td>32871</td>\n",
              "      <td>8/15/2002</td>\n",
              "      <td>Houghton Mifflin</td>\n",
              "    </tr>\n",
              "    <tr>\n",
              "      <th>The Catcher in the Rye</th>\n",
              "      <td>5107</td>\n",
              "      <td>J.D. Salinger</td>\n",
              "      <td>3.80</td>\n",
              "      <td>0316769177</td>\n",
              "      <td>9780316769174</td>\n",
              "      <td>eng</td>\n",
              "      <td>277</td>\n",
              "      <td>2457092</td>\n",
              "      <td>43499</td>\n",
              "      <td>1/30/2001</td>\n",
              "      <td>Back Bay Books</td>\n",
              "    </tr>\n",
              "    <tr>\n",
              "      <th>Angels &amp; Demons (Robert Langdon  #1)</th>\n",
              "      <td>960</td>\n",
              "      <td>Dan Brown</td>\n",
              "      <td>3.89</td>\n",
              "      <td>1416524797</td>\n",
              "      <td>9781416524793</td>\n",
              "      <td>eng</td>\n",
              "      <td>736</td>\n",
              "      <td>2418736</td>\n",
              "      <td>21303</td>\n",
              "      <td>4/1/2006</td>\n",
              "      <td>Pocket Books</td>\n",
              "    </tr>\n",
              "    <tr>\n",
              "      <th>Harry Potter and the Prisoner of Azkaban (Harry Potter  #3)</th>\n",
              "      <td>5</td>\n",
              "      <td>J.K. Rowling/Mary GrandPré</td>\n",
              "      <td>4.56</td>\n",
              "      <td>043965548X</td>\n",
              "      <td>9780439655484</td>\n",
              "      <td>eng</td>\n",
              "      <td>435</td>\n",
              "      <td>2339585</td>\n",
              "      <td>36325</td>\n",
              "      <td>5/1/2004</td>\n",
              "      <td>Scholastic Inc.</td>\n",
              "    </tr>\n",
              "    <tr>\n",
              "      <th>Harry Potter and the Chamber of Secrets (Harry Potter  #2)</th>\n",
              "      <td>15881</td>\n",
              "      <td>J.K. Rowling/Mary GrandPré</td>\n",
              "      <td>4.42</td>\n",
              "      <td>0439064864</td>\n",
              "      <td>9780439064866</td>\n",
              "      <td>eng</td>\n",
              "      <td>341</td>\n",
              "      <td>2293963</td>\n",
              "      <td>34692</td>\n",
              "      <td>6/2/1999</td>\n",
              "      <td>Arthur A. Levine Books / Scholastic Inc.</td>\n",
              "    </tr>\n",
              "    <tr>\n",
              "      <th>Harry Potter and the Order of the Phoenix (Harry Potter  #5)</th>\n",
              "      <td>2</td>\n",
              "      <td>J.K. Rowling/Mary GrandPré</td>\n",
              "      <td>4.49</td>\n",
              "      <td>0439358078</td>\n",
              "      <td>9780439358071</td>\n",
              "      <td>eng</td>\n",
              "      <td>870</td>\n",
              "      <td>2153167</td>\n",
              "      <td>29221</td>\n",
              "      <td>9/1/2004</td>\n",
              "      <td>Scholastic Inc.</td>\n",
              "    </tr>\n",
              "    <tr>\n",
              "      <th>The Fellowship of the Ring (The Lord of the Rings  #1)</th>\n",
              "      <td>34</td>\n",
              "      <td>J.R.R. Tolkien</td>\n",
              "      <td>4.36</td>\n",
              "      <td>0618346252</td>\n",
              "      <td>9780618346257</td>\n",
              "      <td>eng</td>\n",
              "      <td>398</td>\n",
              "      <td>2128944</td>\n",
              "      <td>13670</td>\n",
              "      <td>9/5/2003</td>\n",
              "      <td>Houghton Mifflin Harcourt</td>\n",
              "    </tr>\n",
              "    <tr>\n",
              "      <th>Animal Farm</th>\n",
              "      <td>7613</td>\n",
              "      <td>George Orwell/Boris Grabnar/Peter Škerl</td>\n",
              "      <td>3.93</td>\n",
              "      <td>0452284244</td>\n",
              "      <td>9780452284241</td>\n",
              "      <td>eng</td>\n",
              "      <td>122</td>\n",
              "      <td>2111750</td>\n",
              "      <td>29677</td>\n",
              "      <td>5/6/2003</td>\n",
              "      <td>NAL</td>\n",
              "    </tr>\n",
              "    <tr>\n",
              "      <th>Harry Potter and the Half-Blood Prince (Harry Potter  #6)</th>\n",
              "      <td>1</td>\n",
              "      <td>J.K. Rowling/Mary GrandPré</td>\n",
              "      <td>4.57</td>\n",
              "      <td>0439785960</td>\n",
              "      <td>9780439785969</td>\n",
              "      <td>eng</td>\n",
              "      <td>652</td>\n",
              "      <td>2095690</td>\n",
              "      <td>27591</td>\n",
              "      <td>9/16/2006</td>\n",
              "      <td>Scholastic Inc.</td>\n",
              "    </tr>\n",
              "  </tbody>\n",
              "</table>\n",
              "</div>"
            ],
            "text/plain": [
              "                                                    bookID  ...                                 publisher\n",
              "title                                                       ...                                          \n",
              "Twilight (Twilight  #1)                              41865  ...                 Little  Brown and Company\n",
              "The Hobbit  or There and Back Again                   5907  ...                          Houghton Mifflin\n",
              "The Catcher in the Rye                                5107  ...                            Back Bay Books\n",
              "Angels & Demons (Robert Langdon  #1)                   960  ...                              Pocket Books\n",
              "Harry Potter and the Prisoner of Azkaban (Harry...       5  ...                           Scholastic Inc.\n",
              "Harry Potter and the Chamber of Secrets (Harry ...   15881  ...  Arthur A. Levine Books / Scholastic Inc.\n",
              "Harry Potter and the Order of the Phoenix (Harr...       2  ...                           Scholastic Inc.\n",
              "The Fellowship of the Ring (The Lord of the Rin...      34  ...                 Houghton Mifflin Harcourt\n",
              "Animal Farm                                           7613  ...                                       NAL\n",
              "Harry Potter and the Half-Blood Prince (Harry P...       1  ...                           Scholastic Inc.\n",
              "\n",
              "[10 rows x 11 columns]"
            ]
          },
          "metadata": {
            "tags": []
          },
          "execution_count": 31
        }
      ]
    },
    {
      "cell_type": "code",
      "metadata": {
        "colab": {
          "base_uri": "https://localhost:8080/",
          "height": 387
        },
        "id": "BPJ08GqLBM8V",
        "outputId": "dcd4b25f-8a3c-424e-8fe2-8ca84ce69eb6"
      },
      "source": [
        "sns.relplot(data = df, x = 'average_rating', y = 'ratings_count', sizes = (200,250));\n",
        "plt.title(\"Correlation between Rating Counts and Average Rating\",fontsize= 10);"
      ],
      "execution_count": 41,
      "outputs": [
        {
          "output_type": "display_data",
          "data": {
            "image/png": "[encoded data removed]",
            "text/plain": [
              "<Figure size 360x360 with 1 Axes>"
            ]
          },
          "metadata": {
            "tags": [],
            "needs_background": "light"
          }
        }
      ]
    },
    {
      "cell_type": "code",
      "metadata": {
        "colab": {
          "base_uri": "https://localhost:8080/",
          "height": 384
        },
        "id": "pVNVHGNUDMWB",
        "outputId": "e90a0075-ffc3-4169-f425-8b0be4369383"
      },
      "source": [
        "sns.relplot(data =df, x = \"average_rating\", y = \"  num_pages\",sizes = (200,250));"
      ],
      "execution_count": 43,
      "outputs": [
        {
          "output_type": "display_data",
          "data": {
            "image/png": "[encoded data removed]",
            "text/plain": [
              "<Figure size 360x360 with 1 Axes>"
            ]
          },
          "metadata": {
            "tags": [],
            "needs_background": "light"
          }
        }
      ]
    },
    {
      "cell_type": "code",
      "metadata": {
        "id": "zxM3ZlgsGQhC"
      },
      "source": [
        "df2 = df.copy()"
      ],
      "execution_count": 45,
      "outputs": []
    },
    {
      "cell_type": "code",
      "metadata": {
        "id": "0JTQgDzhE8s4"
      },
      "source": [
        "df2.loc[ (df2['average_rating'] >= 0) & (df2['average_rating'] <= 1), 'rating_between'] = \"between 0 and 1\"\n",
        "df2.loc[ (df2['average_rating'] > 1) & (df2['average_rating'] <= 2), 'rating_between'] = \"between 1 and 2\"\n",
        "df2.loc[ (df2['average_rating'] > 2) & (df2['average_rating'] <= 3), 'rating_between'] = \"between 2 and 3\"\n",
        "df2.loc[ (df2['average_rating'] > 3) & (df2['average_rating'] <= 4), 'rating_between'] = \"between 3 and 4\"\n",
        "df2.loc[ (df2['average_rating'] > 4) & (df2['average_rating'] <= 5), 'rating_between'] = \"between 4 and 5\""
      ],
      "execution_count": 46,
      "outputs": []
    },
    {
      "cell_type": "code",
      "metadata": {
        "id": "Xw8uwbQUGMnF"
      },
      "source": [
        "rating_df = pd.get_dummies(df2['rating_between'])\n",
        "lang_df = pd.get_dummies(df2['language_code'])"
      ],
      "execution_count": 60,
      "outputs": []
    },
    {
      "cell_type": "code",
      "metadata": {
        "id": "tFdf4dSoGXDa"
      },
      "source": [
        "features = pd.concat([rating_df, \n",
        "                      lang_df, \n",
        "                      df2['average_rating'], \n",
        "                      df2['ratings_count']], axis=1)"
      ],
      "execution_count": 61,
      "outputs": []
    },
    {
      "cell_type": "code",
      "metadata": {
        "id": "4vDfu58-GbaN"
      },
      "source": [
        "from sklearn.preprocessing import MinMaxScaler\n",
        "from sklearn.cluster import KMeans\n",
        "from sklearn import neighbors\n",
        "min_max_scaler = MinMaxScaler()\n",
        "features = min_max_scaler.fit_transform(features)"
      ],
      "execution_count": 62,
      "outputs": []
    },
    {
      "cell_type": "code",
      "metadata": {
        "id": "LOX5TwUvGgGL"
      },
      "source": [
        "model = neighbors.NearestNeighbors(n_neighbors=10, algorithm='ball_tree')\n",
        "model.fit(features)\n",
        "dist, idlist = model.kneighbors(features)"
      ],
      "execution_count": 63,
      "outputs": []
    },
    {
      "cell_type": "code",
      "metadata": {
        "colab": {
          "base_uri": "https://localhost:8080/"
        },
        "id": "O4S_kGt8GimP",
        "outputId": "3b458ba9-ec88-43f4-c219-a8d3561a76d7"
      },
      "source": [
        "def BookRecommender(book_name):\n",
        "    book_list_name = []\n",
        "    book_id = df2[df2['title'] == book_name].index\n",
        "    book_id = book_id[0]\n",
        "    for newid in idlist[book_id]:\n",
        "        book_list_name.append(df2.loc[newid].title)\n",
        "    return book_list_name\n",
        "    \n",
        "BookNames = BookRecommender('The Catcher in the Rye')\n",
        "BookNames"
      ],
      "execution_count": 64,
      "outputs": [
        {
          "output_type": "execute_result",
          "data": {
            "text/plain": [
              "['The Catcher in the Rye',\n",
              " 'Angels & Demons (Robert Langdon  #1)',\n",
              " 'Animal Farm',\n",
              " 'Lord of the Flies',\n",
              " 'Romeo and Juliet',\n",
              " 'Of Mice and Men',\n",
              " 'The Da Vinci Code (Robert Langdon  #2)',\n",
              " 'The Alchemist',\n",
              " 'Eat  Pray  Love',\n",
              " 'Brave New World']"
            ]
          },
          "metadata": {
            "tags": []
          },
          "execution_count": 64
        }
      ]
    },
    {
      "cell_type": "code",
      "metadata": {
        "colab": {
          "base_uri": "https://localhost:8080/"
        },
        "id": "GpcLndF2OrZL",
        "outputId": "f5dc20b5-7be2-4a9a-e0e0-af0d4dea0d1d"
      },
      "source": [
        "BookNames_2 = BookRecommender(\"Animal Farm\")\n",
        "BookNames_2"
      ],
      "execution_count": 66,
      "outputs": [
        {
          "output_type": "execute_result",
          "data": {
            "text/plain": [
              "['Animal Farm',\n",
              " 'Lord of the Flies',\n",
              " 'Romeo and Juliet',\n",
              " 'Angels & Demons (Robert Langdon  #1)',\n",
              " 'Of Mice and Men',\n",
              " 'The Catcher in the Rye',\n",
              " 'The Da Vinci Code (Robert Langdon  #2)',\n",
              " 'The Alchemist',\n",
              " 'Eat  Pray  Love',\n",
              " 'Brave New World']"
            ]
          },
          "metadata": {
            "tags": []
          },
          "execution_count": 66
        }
      ]
    },
    {
      "cell_type": "code",
      "metadata": {
        "colab": {
          "base_uri": "https://localhost:8080/"
        },
        "id": "O08lu2xjPN3c",
        "outputId": "3eba1803-f979-44da-a353-e580623dfac3"
      },
      "source": [
        "BookNames_3 = BookRecommender(\"The Alchemist\")\n",
        "BookNames_3"
      ],
      "execution_count": 68,
      "outputs": [
        {
          "output_type": "execute_result",
          "data": {
            "text/plain": [
              "['The Main',\n",
              " 'The Alchemist',\n",
              " 'Scales of the Serpent (Diablo: The Sin War  #2)',\n",
              " 'The Siren Song (Pirates of the Caribbean: Jack Sparrow  #2)',\n",
              " 'Hollywood Tough (Shane Scully  #3)',\n",
              " 'The Sound and the Fury: An Authoritative Text  Backgrounds and Contexts  Criticism',\n",
              " 'Language and Mind',\n",
              " 'Sylvia',\n",
              " 'Saxons  Vikings  and Celts: The Genetic Roots of Britain and Ireland',\n",
              " 'Fiddlers (87th Precinct  #55)']"
            ]
          },
          "metadata": {
            "tags": []
          },
          "execution_count": 68
        }
      ]
    }
  ]
}